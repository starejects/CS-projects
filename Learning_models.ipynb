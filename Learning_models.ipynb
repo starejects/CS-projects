{
  "cells": [
    {
      "cell_type": "code",
      "execution_count": null,
      "metadata": {
        "colab": {
          "base_uri": "https://localhost:8080/",
          "height": 35
        },
        "id": "_cNz1avM85_j",
        "outputId": "ea04945d-3cc5-418a-ff9d-59a40edec3aa"
      },
      "outputs": [
        {
          "output_type": "execute_result",
          "data": {
            "application/vnd.google.colaboratory.intrinsic+json": {
              "type": "string"
            },
            "text/plain": [
              "'2.7.0'"
            ]
          },
          "metadata": {},
          "execution_count": 1
        }
      ],
      "source": [
        "import keras\n",
        "keras.__version__"
      ]
    },
    {
      "cell_type": "code",
      "execution_count": null,
      "metadata": {
        "id": "NJu8RhbJ9RHS",
        "colab": {
          "base_uri": "https://localhost:8080/"
        },
        "outputId": "3c272031-6b96-44be-bf06-803f1a8dde6e"
      },
      "outputs": [
        {
          "output_type": "stream",
          "name": "stdout",
          "text": [
            "Downloading data from https://storage.googleapis.com/tensorflow/tf-keras-datasets/mnist.npz\n",
            "11493376/11490434 [==============================] - 0s 0us/step\n",
            "11501568/11490434 [==============================] - 0s 0us/step\n"
          ]
        }
      ],
      "source": [
        "## read MNIST dataset (hello-world dataset in deep learning)\n",
        "from keras.datasets import mnist\n",
        "(train_images, train_labels), (test_images, test_labels) = mnist.load_data()"
      ]
    },
    {
      "cell_type": "code",
      "execution_count": null,
      "metadata": {
        "colab": {
          "base_uri": "https://localhost:8080/"
        },
        "id": "GYH1tyh39eLT",
        "outputId": "cce94eaa-a71e-4e46-8c5a-d3b38eb4fe5e"
      },
      "outputs": [
        {
          "output_type": "execute_result",
          "data": {
            "text/plain": [
              "(60000, 28, 28)"
            ]
          },
          "metadata": {},
          "execution_count": 3
        }
      ],
      "source": [
        "## The data format is tensor\n",
        "train_images.shape"
      ]
    },
    {
      "cell_type": "code",
      "execution_count": null,
      "metadata": {
        "colab": {
          "base_uri": "https://localhost:8080/"
        },
        "id": "YCKwzQS09wKC",
        "outputId": "ea9d6d5c-d9b4-4d75-a5b2-8b835f67d90d"
      },
      "outputs": [
        {
          "output_type": "execute_result",
          "data": {
            "text/plain": [
              "60000"
            ]
          },
          "metadata": {},
          "execution_count": 4
        }
      ],
      "source": [
        "## The first number is the sample size of the training data\n",
        "len(train_labels)"
      ]
    },
    {
      "cell_type": "code",
      "execution_count": null,
      "metadata": {
        "colab": {
          "base_uri": "https://localhost:8080/"
        },
        "id": "YACNKcQF94lO",
        "outputId": "38e58937-ddf6-4f36-a16a-6ae42e0f4588"
      },
      "outputs": [
        {
          "output_type": "execute_result",
          "data": {
            "text/plain": [
              "array([5, 0, 4, ..., 5, 6, 8], dtype=uint8)"
            ]
          },
          "metadata": {},
          "execution_count": 5
        }
      ],
      "source": [
        "## This is a multiclass-classifcation problem. The class labels are 0,1,2...,9 for 10 digits\n",
        "train_labels"
      ]
    },
    {
      "cell_type": "code",
      "execution_count": null,
      "metadata": {
        "colab": {
          "base_uri": "https://localhost:8080/"
        },
        "id": "fwexK5Ks-ILE",
        "outputId": "f80fef44-beb7-46ef-a6b7-d805a4f6d365"
      },
      "outputs": [
        {
          "output_type": "execute_result",
          "data": {
            "text/plain": [
              "(10000, 28, 28)"
            ]
          },
          "metadata": {},
          "execution_count": 6
        }
      ],
      "source": [
        "test_images.shape"
      ]
    },
    {
      "cell_type": "code",
      "execution_count": null,
      "metadata": {
        "colab": {
          "base_uri": "https://localhost:8080/"
        },
        "id": "DAdszftM-OLd",
        "outputId": "d7ac1ee3-b168-4f51-f59d-eaf7e57703e9"
      },
      "outputs": [
        {
          "output_type": "execute_result",
          "data": {
            "text/plain": [
              "10000"
            ]
          },
          "metadata": {},
          "execution_count": 7
        }
      ],
      "source": [
        "len(test_labels)"
      ]
    },
    {
      "cell_type": "code",
      "execution_count": null,
      "metadata": {
        "colab": {
          "base_uri": "https://localhost:8080/"
        },
        "id": "bXB7yaTA-TJP",
        "outputId": "e1b56aac-a52a-4d18-f79f-f0e24e7ead4e"
      },
      "outputs": [
        {
          "output_type": "execute_result",
          "data": {
            "text/plain": [
              "array([7, 2, 1, ..., 4, 5, 6], dtype=uint8)"
            ]
          },
          "metadata": {},
          "execution_count": 8
        }
      ],
      "source": [
        "test_labels"
      ]
    },
    {
      "cell_type": "code",
      "execution_count": null,
      "metadata": {
        "colab": {
          "base_uri": "https://localhost:8080/"
        },
        "id": "JBMVp4-Q-ZsQ",
        "outputId": "26e84750-4b6b-4f66-8c00-455ff1e4b216"
      },
      "outputs": [
        {
          "output_type": "execute_result",
          "data": {
            "text/plain": [
              "(28, 28)"
            ]
          },
          "metadata": {},
          "execution_count": 9
        }
      ],
      "source": [
        "## Take a look at the first digit in the training data\n",
        "## In Python, the index starts from 0\n",
        "digit = train_images[0]\n",
        "## The digit is represented by a 28x28 matrix.\n",
        "digit.shape"
      ]
    },
    {
      "cell_type": "code",
      "execution_count": null,
      "metadata": {
        "colab": {
          "base_uri": "https://localhost:8080/"
        },
        "id": "nGbLZ6Ps_2U5",
        "outputId": "bfdbf8ff-5256-4029-c078-bda82e377283"
      },
      "outputs": [
        {
          "output_type": "execute_result",
          "data": {
            "text/plain": [
              "array([[  0,   0,   0,   0,   0,   0,   0,   0,   0,   0,   0,   0,   0,\n",
              "          0,   0,   0,   0,   0,   0,   0,   0,   0,   0,   0,   0,   0,\n",
              "          0,   0],\n",
              "       [  0,   0,   0,   0,   0,   0,   0,   0,   0,   0,   0,   0,   0,\n",
              "          0,   0,   0,   0,   0,   0,   0,   0,   0,   0,   0,   0,   0,\n",
              "          0,   0],\n",
              "       [  0,   0,   0,   0,   0,   0,   0,   0,   0,   0,   0,   0,   0,\n",
              "          0,   0,   0,   0,   0,   0,   0,   0,   0,   0,   0,   0,   0,\n",
              "          0,   0],\n",
              "       [  0,   0,   0,   0,   0,   0,   0,   0,   0,   0,   0,   0,   0,\n",
              "          0,   0,   0,   0,   0,   0,   0,   0,   0,   0,   0,   0,   0,\n",
              "          0,   0],\n",
              "       [  0,   0,   0,   0,   0,   0,   0,   0,   0,   0,   0,   0,   0,\n",
              "          0,   0,   0,   0,   0,   0,   0,   0,   0,   0,   0,   0,   0,\n",
              "          0,   0],\n",
              "       [  0,   0,   0,   0,   0,   0,   0,   0,   0,   0,   0,   0,   3,\n",
              "         18,  18,  18, 126, 136, 175,  26, 166, 255, 247, 127,   0,   0,\n",
              "          0,   0],\n",
              "       [  0,   0,   0,   0,   0,   0,   0,   0,  30,  36,  94, 154, 170,\n",
              "        253, 253, 253, 253, 253, 225, 172, 253, 242, 195,  64,   0,   0,\n",
              "          0,   0],\n",
              "       [  0,   0,   0,   0,   0,   0,   0,  49, 238, 253, 253, 253, 253,\n",
              "        253, 253, 253, 253, 251,  93,  82,  82,  56,  39,   0,   0,   0,\n",
              "          0,   0],\n",
              "       [  0,   0,   0,   0,   0,   0,   0,  18, 219, 253, 253, 253, 253,\n",
              "        253, 198, 182, 247, 241,   0,   0,   0,   0,   0,   0,   0,   0,\n",
              "          0,   0],\n",
              "       [  0,   0,   0,   0,   0,   0,   0,   0,  80, 156, 107, 253, 253,\n",
              "        205,  11,   0,  43, 154,   0,   0,   0,   0,   0,   0,   0,   0,\n",
              "          0,   0],\n",
              "       [  0,   0,   0,   0,   0,   0,   0,   0,   0,  14,   1, 154, 253,\n",
              "         90,   0,   0,   0,   0,   0,   0,   0,   0,   0,   0,   0,   0,\n",
              "          0,   0],\n",
              "       [  0,   0,   0,   0,   0,   0,   0,   0,   0,   0,   0, 139, 253,\n",
              "        190,   2,   0,   0,   0,   0,   0,   0,   0,   0,   0,   0,   0,\n",
              "          0,   0],\n",
              "       [  0,   0,   0,   0,   0,   0,   0,   0,   0,   0,   0,  11, 190,\n",
              "        253,  70,   0,   0,   0,   0,   0,   0,   0,   0,   0,   0,   0,\n",
              "          0,   0],\n",
              "       [  0,   0,   0,   0,   0,   0,   0,   0,   0,   0,   0,   0,  35,\n",
              "        241, 225, 160, 108,   1,   0,   0,   0,   0,   0,   0,   0,   0,\n",
              "          0,   0],\n",
              "       [  0,   0,   0,   0,   0,   0,   0,   0,   0,   0,   0,   0,   0,\n",
              "         81, 240, 253, 253, 119,  25,   0,   0,   0,   0,   0,   0,   0,\n",
              "          0,   0],\n",
              "       [  0,   0,   0,   0,   0,   0,   0,   0,   0,   0,   0,   0,   0,\n",
              "          0,  45, 186, 253, 253, 150,  27,   0,   0,   0,   0,   0,   0,\n",
              "          0,   0],\n",
              "       [  0,   0,   0,   0,   0,   0,   0,   0,   0,   0,   0,   0,   0,\n",
              "          0,   0,  16,  93, 252, 253, 187,   0,   0,   0,   0,   0,   0,\n",
              "          0,   0],\n",
              "       [  0,   0,   0,   0,   0,   0,   0,   0,   0,   0,   0,   0,   0,\n",
              "          0,   0,   0,   0, 249, 253, 249,  64,   0,   0,   0,   0,   0,\n",
              "          0,   0],\n",
              "       [  0,   0,   0,   0,   0,   0,   0,   0,   0,   0,   0,   0,   0,\n",
              "          0,  46, 130, 183, 253, 253, 207,   2,   0,   0,   0,   0,   0,\n",
              "          0,   0],\n",
              "       [  0,   0,   0,   0,   0,   0,   0,   0,   0,   0,   0,   0,  39,\n",
              "        148, 229, 253, 253, 253, 250, 182,   0,   0,   0,   0,   0,   0,\n",
              "          0,   0],\n",
              "       [  0,   0,   0,   0,   0,   0,   0,   0,   0,   0,  24, 114, 221,\n",
              "        253, 253, 253, 253, 201,  78,   0,   0,   0,   0,   0,   0,   0,\n",
              "          0,   0],\n",
              "       [  0,   0,   0,   0,   0,   0,   0,   0,  23,  66, 213, 253, 253,\n",
              "        253, 253, 198,  81,   2,   0,   0,   0,   0,   0,   0,   0,   0,\n",
              "          0,   0],\n",
              "       [  0,   0,   0,   0,   0,   0,  18, 171, 219, 253, 253, 253, 253,\n",
              "        195,  80,   9,   0,   0,   0,   0,   0,   0,   0,   0,   0,   0,\n",
              "          0,   0],\n",
              "       [  0,   0,   0,   0,  55, 172, 226, 253, 253, 253, 253, 244, 133,\n",
              "         11,   0,   0,   0,   0,   0,   0,   0,   0,   0,   0,   0,   0,\n",
              "          0,   0],\n",
              "       [  0,   0,   0,   0, 136, 253, 253, 253, 212, 135, 132,  16,   0,\n",
              "          0,   0,   0,   0,   0,   0,   0,   0,   0,   0,   0,   0,   0,\n",
              "          0,   0],\n",
              "       [  0,   0,   0,   0,   0,   0,   0,   0,   0,   0,   0,   0,   0,\n",
              "          0,   0,   0,   0,   0,   0,   0,   0,   0,   0,   0,   0,   0,\n",
              "          0,   0],\n",
              "       [  0,   0,   0,   0,   0,   0,   0,   0,   0,   0,   0,   0,   0,\n",
              "          0,   0,   0,   0,   0,   0,   0,   0,   0,   0,   0,   0,   0,\n",
              "          0,   0],\n",
              "       [  0,   0,   0,   0,   0,   0,   0,   0,   0,   0,   0,   0,   0,\n",
              "          0,   0,   0,   0,   0,   0,   0,   0,   0,   0,   0,   0,   0,\n",
              "          0,   0]], dtype=uint8)"
            ]
          },
          "metadata": {},
          "execution_count": 10
        }
      ],
      "source": [
        "## Each element in the matrix is the grey value for the pixel.\n",
        "digit"
      ]
    },
    {
      "cell_type": "code",
      "execution_count": null,
      "metadata": {
        "colab": {
          "base_uri": "https://localhost:8080/",
          "height": 265
        },
        "id": "OKlzRs8bADm8",
        "outputId": "42cd3f54-2d82-49be-d305-e32167ec028d"
      },
      "outputs": [
        {
          "output_type": "display_data",
          "data": {
            "image/png": "[encoded data removed]",
            "text/plain": [
              "<Figure size 432x288 with 1 Axes>"
            ]
          },
          "metadata": {
            "needs_background": "light"
          }
        }
      ],
      "source": [
        "## Displaying the first digit\n",
        "## import a plot library\n",
        "import matplotlib.pyplot as plt\n",
        "plt.imshow(digit, cmap=plt.cm.binary)\n",
        "plt.show()\n"
      ]
    },
    {
      "cell_type": "code",
      "execution_count": null,
      "metadata": {
        "id": "iRltzJ3xFGMZ"
      },
      "outputs": [],
      "source": [
        "## Flatten and normalize the data\n",
        "## For the illustration purpose, we will treat each image as a vector of inputs\n",
        "## In the future, we will use convolutional neural networks (CNNs) to utilize the specifal structure of an image.\n",
        "train_images = train_images.reshape((60000, 28 * 28))\n",
        "train_images = train_images.astype('float32') / 255\n",
        "\n",
        "test_images = test_images.reshape((10000, 28 * 28))\n",
        "test_images = test_images.astype('float32') / 255"
      ]
    },
    {
      "cell_type": "code",
      "execution_count": null,
      "metadata": {
        "colab": {
          "base_uri": "https://localhost:8080/"
        },
        "id": "Qm2vNoT4GDwO",
        "outputId": "74019f26-7616-4e12-d393-38e323365d95"
      },
      "outputs": [
        {
          "output_type": "execute_result",
          "data": {
            "text/plain": [
              "(784,)"
            ]
          },
          "metadata": {},
          "execution_count": 13
        }
      ],
      "source": [
        "## each image is a 28x28=784 dimensional vector \n",
        "train_images[0].shape"
      ]
    },
    {
      "cell_type": "code",
      "execution_count": null,
      "metadata": {
        "colab": {
          "base_uri": "https://localhost:8080/"
        },
        "id": "qBeuHGqJGEkb",
        "outputId": "eab3a5e9-4798-449f-ed1c-a0e8e9e73640"
      },
      "outputs": [
        {
          "output_type": "execute_result",
          "data": {
            "text/plain": [
              "array([0.        , 0.        , 0.        , 0.        , 0.        ,\n",
              "       0.        , 0.        , 0.        , 0.        , 0.        ,\n",
              "       0.        , 0.        , 0.        , 0.        , 0.        ,\n",
              "       0.        , 0.        , 0.        , 0.        , 0.        ,\n",
              "       0.        , 0.        , 0.        , 0.        , 0.        ,\n",
              "       0.        , 0.        , 0.        , 0.        , 0.        ,\n",
              "       0.        , 0.        , 0.        , 0.        , 0.        ,\n",
              "       0.        , 0.        , 0.        , 0.        , 0.        ,\n",
              "       0.        , 0.        , 0.        , 0.        , 0.        ,\n",
              "       0.        , 0.        , 0.        , 0.        , 0.        ,\n",
              "       0.        , 0.        , 0.        , 0.        , 0.        ,\n",
              "       0.        , 0.        , 0.        , 0.        , 0.        ,\n",
              "       0.        , 0.        , 0.        , 0.        , 0.        ,\n",
              "       0.        , 0.        , 0.        , 0.        , 0.        ,\n",
              "       0.        , 0.        , 0.        , 0.        , 0.        ,\n",
              "       0.        , 0.        , 0.        , 0.        , 0.        ,\n",
              "       0.        , 0.        , 0.        , 0.        , 0.        ,\n",
              "       0.        , 0.        , 0.        , 0.        , 0.        ,\n",
              "       0.        , 0.        , 0.        , 0.        , 0.        ,\n",
              "       0.        , 0.        , 0.        , 0.        , 0.        ,\n",
              "       0.        , 0.        , 0.        , 0.        , 0.        ,\n",
              "       0.        , 0.        , 0.        , 0.        , 0.        ,\n",
              "       0.        , 0.        , 0.        , 0.        , 0.        ,\n",
              "       0.        , 0.        , 0.        , 0.        , 0.        ,\n",
              "       0.        , 0.        , 0.        , 0.        , 0.        ,\n",
              "       0.        , 0.        , 0.        , 0.        , 0.        ,\n",
              "       0.        , 0.        , 0.        , 0.        , 0.        ,\n",
              "       0.        , 0.        , 0.        , 0.        , 0.        ,\n",
              "       0.        , 0.        , 0.        , 0.        , 0.        ,\n",
              "       0.        , 0.        , 0.        , 0.        , 0.        ,\n",
              "       0.        , 0.        , 0.01176471, 0.07058824, 0.07058824,\n",
              "       0.07058824, 0.49411765, 0.53333336, 0.6862745 , 0.10196079,\n",
              "       0.6509804 , 1.        , 0.96862745, 0.49803922, 0.        ,\n",
              "       0.        , 0.        , 0.        , 0.        , 0.        ,\n",
              "       0.        , 0.        , 0.        , 0.        , 0.        ,\n",
              "       0.        , 0.11764706, 0.14117648, 0.36862746, 0.6039216 ,\n",
              "       0.6666667 , 0.99215686, 0.99215686, 0.99215686, 0.99215686,\n",
              "       0.99215686, 0.88235295, 0.6745098 , 0.99215686, 0.9490196 ,\n",
              "       0.7647059 , 0.2509804 , 0.        , 0.        , 0.        ,\n",
              "       0.        , 0.        , 0.        , 0.        , 0.        ,\n",
              "       0.        , 0.        , 0.        , 0.19215687, 0.93333334,\n",
              "       0.99215686, 0.99215686, 0.99215686, 0.99215686, 0.99215686,\n",
              "       0.99215686, 0.99215686, 0.99215686, 0.9843137 , 0.3647059 ,\n",
              "       0.32156864, 0.32156864, 0.21960784, 0.15294118, 0.        ,\n",
              "       0.        , 0.        , 0.        , 0.        , 0.        ,\n",
              "       0.        , 0.        , 0.        , 0.        , 0.        ,\n",
              "       0.        , 0.07058824, 0.85882354, 0.99215686, 0.99215686,\n",
              "       0.99215686, 0.99215686, 0.99215686, 0.7764706 , 0.7137255 ,\n",
              "       0.96862745, 0.94509804, 0.        , 0.        , 0.        ,\n",
              "       0.        , 0.        , 0.        , 0.        , 0.        ,\n",
              "       0.        , 0.        , 0.        , 0.        , 0.        ,\n",
              "       0.        , 0.        , 0.        , 0.        , 0.        ,\n",
              "       0.3137255 , 0.6117647 , 0.41960785, 0.99215686, 0.99215686,\n",
              "       0.8039216 , 0.04313726, 0.        , 0.16862746, 0.6039216 ,\n",
              "       0.        , 0.        , 0.        , 0.        , 0.        ,\n",
              "       0.        , 0.        , 0.        , 0.        , 0.        ,\n",
              "       0.        , 0.        , 0.        , 0.        , 0.        ,\n",
              "       0.        , 0.        , 0.        , 0.        , 0.05490196,\n",
              "       0.00392157, 0.6039216 , 0.99215686, 0.3529412 , 0.        ,\n",
              "       0.        , 0.        , 0.        , 0.        , 0.        ,\n",
              "       0.        , 0.        , 0.        , 0.        , 0.        ,\n",
              "       0.        , 0.        , 0.        , 0.        , 0.        ,\n",
              "       0.        , 0.        , 0.        , 0.        , 0.        ,\n",
              "       0.        , 0.        , 0.        , 0.        , 0.54509807,\n",
              "       0.99215686, 0.74509805, 0.00784314, 0.        , 0.        ,\n",
              "       0.        , 0.        , 0.        , 0.        , 0.        ,\n",
              "       0.        , 0.        , 0.        , 0.        , 0.        ,\n",
              "       0.        , 0.        , 0.        , 0.        , 0.        ,\n",
              "       0.        , 0.        , 0.        , 0.        , 0.        ,\n",
              "       0.        , 0.        , 0.04313726, 0.74509805, 0.99215686,\n",
              "       0.27450982, 0.        , 0.        , 0.        , 0.        ,\n",
              "       0.        , 0.        , 0.        , 0.        , 0.        ,\n",
              "       0.        , 0.        , 0.        , 0.        , 0.        ,\n",
              "       0.        , 0.        , 0.        , 0.        , 0.        ,\n",
              "       0.        , 0.        , 0.        , 0.        , 0.        ,\n",
              "       0.        , 0.13725491, 0.94509804, 0.88235295, 0.627451  ,\n",
              "       0.42352942, 0.00392157, 0.        , 0.        , 0.        ,\n",
              "       0.        , 0.        , 0.        , 0.        , 0.        ,\n",
              "       0.        , 0.        , 0.        , 0.        , 0.        ,\n",
              "       0.        , 0.        , 0.        , 0.        , 0.        ,\n",
              "       0.        , 0.        , 0.        , 0.        , 0.        ,\n",
              "       0.31764707, 0.9411765 , 0.99215686, 0.99215686, 0.46666667,\n",
              "       0.09803922, 0.        , 0.        , 0.        , 0.        ,\n",
              "       0.        , 0.        , 0.        , 0.        , 0.        ,\n",
              "       0.        , 0.        , 0.        , 0.        , 0.        ,\n",
              "       0.        , 0.        , 0.        , 0.        , 0.        ,\n",
              "       0.        , 0.        , 0.        , 0.        , 0.1764706 ,\n",
              "       0.7294118 , 0.99215686, 0.99215686, 0.5882353 , 0.10588235,\n",
              "       0.        , 0.        , 0.        , 0.        , 0.        ,\n",
              "       0.        , 0.        , 0.        , 0.        , 0.        ,\n",
              "       0.        , 0.        , 0.        , 0.        , 0.        ,\n",
              "       0.        , 0.        , 0.        , 0.        , 0.        ,\n",
              "       0.        , 0.        , 0.        , 0.0627451 , 0.3647059 ,\n",
              "       0.9882353 , 0.99215686, 0.73333335, 0.        , 0.        ,\n",
              "       0.        , 0.        , 0.        , 0.        , 0.        ,\n",
              "       0.        , 0.        , 0.        , 0.        , 0.        ,\n",
              "       0.        , 0.        , 0.        , 0.        , 0.        ,\n",
              "       0.        , 0.        , 0.        , 0.        , 0.        ,\n",
              "       0.        , 0.        , 0.        , 0.9764706 , 0.99215686,\n",
              "       0.9764706 , 0.2509804 , 0.        , 0.        , 0.        ,\n",
              "       0.        , 0.        , 0.        , 0.        , 0.        ,\n",
              "       0.        , 0.        , 0.        , 0.        , 0.        ,\n",
              "       0.        , 0.        , 0.        , 0.        , 0.        ,\n",
              "       0.        , 0.        , 0.        , 0.18039216, 0.50980395,\n",
              "       0.7176471 , 0.99215686, 0.99215686, 0.8117647 , 0.00784314,\n",
              "       0.        , 0.        , 0.        , 0.        , 0.        ,\n",
              "       0.        , 0.        , 0.        , 0.        , 0.        ,\n",
              "       0.        , 0.        , 0.        , 0.        , 0.        ,\n",
              "       0.        , 0.        , 0.        , 0.        , 0.15294118,\n",
              "       0.5803922 , 0.8980392 , 0.99215686, 0.99215686, 0.99215686,\n",
              "       0.98039216, 0.7137255 , 0.        , 0.        , 0.        ,\n",
              "       0.        , 0.        , 0.        , 0.        , 0.        ,\n",
              "       0.        , 0.        , 0.        , 0.        , 0.        ,\n",
              "       0.        , 0.        , 0.        , 0.        , 0.        ,\n",
              "       0.09411765, 0.44705883, 0.8666667 , 0.99215686, 0.99215686,\n",
              "       0.99215686, 0.99215686, 0.7882353 , 0.30588236, 0.        ,\n",
              "       0.        , 0.        , 0.        , 0.        , 0.        ,\n",
              "       0.        , 0.        , 0.        , 0.        , 0.        ,\n",
              "       0.        , 0.        , 0.        , 0.        , 0.        ,\n",
              "       0.        , 0.09019608, 0.25882354, 0.8352941 , 0.99215686,\n",
              "       0.99215686, 0.99215686, 0.99215686, 0.7764706 , 0.31764707,\n",
              "       0.00784314, 0.        , 0.        , 0.        , 0.        ,\n",
              "       0.        , 0.        , 0.        , 0.        , 0.        ,\n",
              "       0.        , 0.        , 0.        , 0.        , 0.        ,\n",
              "       0.        , 0.        , 0.07058824, 0.67058825, 0.85882354,\n",
              "       0.99215686, 0.99215686, 0.99215686, 0.99215686, 0.7647059 ,\n",
              "       0.3137255 , 0.03529412, 0.        , 0.        , 0.        ,\n",
              "       0.        , 0.        , 0.        , 0.        , 0.        ,\n",
              "       0.        , 0.        , 0.        , 0.        , 0.        ,\n",
              "       0.        , 0.        , 0.        , 0.21568628, 0.6745098 ,\n",
              "       0.8862745 , 0.99215686, 0.99215686, 0.99215686, 0.99215686,\n",
              "       0.95686275, 0.52156866, 0.04313726, 0.        , 0.        ,\n",
              "       0.        , 0.        , 0.        , 0.        , 0.        ,\n",
              "       0.        , 0.        , 0.        , 0.        , 0.        ,\n",
              "       0.        , 0.        , 0.        , 0.        , 0.        ,\n",
              "       0.        , 0.53333336, 0.99215686, 0.99215686, 0.99215686,\n",
              "       0.83137256, 0.5294118 , 0.5176471 , 0.0627451 , 0.        ,\n",
              "       0.        , 0.        , 0.        , 0.        , 0.        ,\n",
              "       0.        , 0.        , 0.        , 0.        , 0.        ,\n",
              "       0.        , 0.        , 0.        , 0.        , 0.        ,\n",
              "       0.        , 0.        , 0.        , 0.        , 0.        ,\n",
              "       0.        , 0.        , 0.        , 0.        , 0.        ,\n",
              "       0.        , 0.        , 0.        , 0.        , 0.        ,\n",
              "       0.        , 0.        , 0.        , 0.        , 0.        ,\n",
              "       0.        , 0.        , 0.        , 0.        , 0.        ,\n",
              "       0.        , 0.        , 0.        , 0.        , 0.        ,\n",
              "       0.        , 0.        , 0.        , 0.        , 0.        ,\n",
              "       0.        , 0.        , 0.        , 0.        , 0.        ,\n",
              "       0.        , 0.        , 0.        , 0.        , 0.        ,\n",
              "       0.        , 0.        , 0.        , 0.        , 0.        ,\n",
              "       0.        , 0.        , 0.        , 0.        , 0.        ,\n",
              "       0.        , 0.        , 0.        , 0.        , 0.        ,\n",
              "       0.        , 0.        , 0.        , 0.        , 0.        ,\n",
              "       0.        , 0.        , 0.        , 0.        , 0.        ,\n",
              "       0.        , 0.        , 0.        , 0.        , 0.        ,\n",
              "       0.        , 0.        , 0.        , 0.        , 0.        ,\n",
              "       0.        , 0.        , 0.        , 0.        ], dtype=float32)"
            ]
          },
          "metadata": {},
          "execution_count": 14
        }
      ],
      "source": [
        "train_images[0]"
      ]
    },
    {
      "cell_type": "code",
      "execution_count": null,
      "metadata": {
        "colab": {
          "base_uri": "https://localhost:8080/"
        },
        "id": "zmnFfmdwGQjO",
        "outputId": "b113e689-b521-4bea-d557-9f2b93610132"
      },
      "outputs": [
        {
          "output_type": "execute_result",
          "data": {
            "text/plain": [
              "array([[0., 0., 0., ..., 0., 0., 0.],\n",
              "       [1., 0., 0., ..., 0., 0., 0.],\n",
              "       [0., 0., 0., ..., 0., 0., 0.],\n",
              "       ...,\n",
              "       [0., 0., 0., ..., 0., 0., 0.],\n",
              "       [0., 0., 0., ..., 0., 0., 0.],\n",
              "       [0., 0., 0., ..., 0., 1., 0.]], dtype=float32)"
            ]
          },
          "metadata": {},
          "execution_count": 15
        }
      ],
      "source": [
        "## convert the labels to nominal data (2 is not bigger than 1, it just means 2 and 1 are two different labels)\n",
        "from tensorflow.keras.utils import to_categorical\n",
        "\n",
        "train_labels = to_categorical(train_labels)\n",
        "test_labels = to_categorical(test_labels)\n",
        "\n",
        "train_labels"
      ]
    },
    {
      "cell_type": "code",
      "execution_count": null,
      "metadata": {
        "id": "6frYzXRaAXYE"
      },
      "outputs": [],
      "source": [
        "# # build up a single layer network \n",
        "from keras import models\n",
        "from keras import layers\n",
        "\n",
        "## define the network architecture (for a single layer network)\n",
        "## Here we use 'network' to be the name of this single layer network. You can use whatever name you want.\n",
        "network = models.Sequential() \n",
        "\n",
        "## In keras, we use 'add' function to add the layer to the network\n",
        "## Here we specify the network to have 512 nodes in this layer. The 'input_shape' tells keras what the dimension of the input data\n",
        "network.add(layers.Dense(512, activation='relu', input_shape=(28 * 28,))) \n",
        "\n",
        "## We add the output layer, which will connect to the resposne.\n",
        "## Since this is a multi-class classification problem, the output should be 10 probabilities: pi_0=P(digit is 0), ..., pi_9=P(digit is 9).\n",
        "network.add(layers.Dense(10, activation='softmax'))\n"
      ]
    },
    {
      "cell_type": "markdown",
      "metadata": {
        "id": "9WBX98KXDqAP"
      },
      "source": [
        "Specifically, $\\pi_k = \\frac{\\exp\\Big\\{\\beta_{k0}+\\sum_{j=1}^{512}\\beta_{kj}X_j\\Big\\}}{\\sum_{l=0}^9\\exp\\Big\\{\\beta_{l0}+\\sum_{j=1}^{512}\\beta_{lj}X_j\\Big\\}}$"
      ]
    },
    {
      "cell_type": "code",
      "execution_count": null,
      "metadata": {
        "colab": {
          "base_uri": "https://localhost:8080/"
        },
        "id": "KC_s_UMsGrVs",
        "outputId": "7f308093-186a-424c-a0ae-979469b9bfea"
      },
      "outputs": [
        {
          "output_type": "stream",
          "name": "stdout",
          "text": [
            "Model: \"sequential\"\n",
            "_________________________________________________________________\n",
            " Layer (type)                Output Shape              Param #   \n",
            "=================================================================\n",
            " dense (Dense)               (None, 512)               401920    \n",
            "                                                                 \n",
            " dense_1 (Dense)             (None, 10)                5130      \n",
            "                                                                 \n",
            "=================================================================\n",
            "Total params: 407,050\n",
            "Trainable params: 407,050\n",
            "Non-trainable params: 0\n",
            "_________________________________________________________________\n"
          ]
        }
      ],
      "source": [
        "## summary of the network architecture\n",
        "network.summary()"
      ]
    },
    {
      "cell_type": "code",
      "execution_count": null,
      "metadata": {
        "id": "kRmJxP3sEqSx"
      },
      "outputs": [],
      "source": [
        "## Specify the loss function, optimization method and evaluation criterion\n",
        "network.compile(optimizer='rmsprop',\n",
        "                loss='categorical_crossentropy',\n",
        "                metrics=['accuracy'])"
      ]
    },
    {
      "cell_type": "code",
      "execution_count": null,
      "metadata": {
        "colab": {
          "base_uri": "https://localhost:8080/"
        },
        "id": "cVzChh5bGlUa",
        "outputId": "b5b91e6e-bf9e-49e1-bfcc-ca4391ec6a39"
      },
      "outputs": [
        {
          "output_type": "stream",
          "name": "stdout",
          "text": [
            "Epoch 1/5\n",
            "469/469 [==============================] - 10s 19ms/step - loss: 0.2566 - accuracy: 0.9258\n",
            "Epoch 2/5\n",
            "469/469 [==============================] - 8s 17ms/step - loss: 0.1020 - accuracy: 0.9697\n",
            "Epoch 3/5\n",
            "469/469 [==============================] - 8s 16ms/step - loss: 0.0680 - accuracy: 0.9797\n",
            "Epoch 4/5\n",
            "469/469 [==============================] - 5s 11ms/step - loss: 0.0491 - accuracy: 0.9851\n",
            "Epoch 5/5\n",
            "469/469 [==============================] - 5s 11ms/step - loss: 0.0366 - accuracy: 0.9887\n"
          ]
        },
        {
          "output_type": "execute_result",
          "data": {
            "text/plain": [
              "<keras.callbacks.History at 0x7f88e1e5aed0>"
            ]
          },
          "metadata": {},
          "execution_count": 19
        }
      ],
      "source": [
        "## fit the network\n",
        "network.fit(train_images, train_labels, epochs=5, batch_size=128)"
      ]
    },
    {
      "cell_type": "code",
      "execution_count": null,
      "metadata": {
        "colab": {
          "base_uri": "https://localhost:8080/"
        },
        "id": "VbneXzYFG-Nv",
        "outputId": "ec52be89-7f80-4e65-9237-2208556e3650"
      },
      "outputs": [
        {
          "output_type": "stream",
          "name": "stdout",
          "text": [
            "313/313 [==============================] - 1s 4ms/step - loss: 0.0698 - accuracy: 0.9788\n",
            "test_acc: 0.9787999987602234\n"
          ]
        }
      ],
      "source": [
        "## get prediction on test data\n",
        "network.predict(test_images)\n",
        "test_loss, test_acc = network.evaluate(test_images, test_labels)\n",
        "print('test_acc:', test_acc)"
      ]
    },
    {
      "cell_type": "code",
      "execution_count": null,
      "metadata": {
        "colab": {
          "base_uri": "https://localhost:8080/"
        },
        "id": "W-sUaG3jpoGh",
        "outputId": "88436eb1-52c4-439d-d4a2-a4a8b4a00618"
      },
      "outputs": [
        {
          "output_type": "stream",
          "name": "stdout",
          "text": [
            "Model: \"sequential\"\n",
            "_________________________________________________________________\n",
            " Layer (type)                Output Shape              Param #   \n",
            "=================================================================\n",
            " dense (Dense)               (None, 512)               401920    \n",
            "                                                                 \n",
            " dense_1 (Dense)             (None, 10)                5130      \n",
            "                                                                 \n",
            "=================================================================\n",
            "Total params: 407,050\n",
            "Trainable params: 407,050\n",
            "Non-trainable params: 0\n",
            "_________________________________________________________________\n"
          ]
        }
      ],
      "source": [
        "## Build up multiple-layer network with regularization\n",
        "from keras import regularizers\n",
        "network.mlp = models.Sequential() \n",
        "network.mlp.add(layers.Dense(2048, activation='relu', input_shape=(28 * 28,))) \n",
        "network.mlp.add(layers.Dropout(0.4)) \n",
        "network.mlp.add(layers.Dense(512, activation='relu', kernel_regularizer=regularizers.l2(0.0001))) \n",
        "network.mlp.add(layers.Dropout(0.4)) \n",
        "network.mlp.add(layers.Dense(256, activation='relu', kernel_regularizer=regularizers.l2(0.0001))) \n",
        "network.mlp.add(layers.Dropout(0.5)) \n",
        "network.mlp.add(layers.Dense(128, activation='relu', kernel_regularizer=regularizers.l2(0.0001))) \n",
        "network.mlp.add(layers.Dropout(0.4))\n",
        "network.mlp.add(layers.Dense(10, activation='softmax')) \n",
        "network.summary()\n"
      ]
    },
    {
      "cell_type": "code",
      "execution_count": null,
      "metadata": {
        "id": "h4R_GinaqMUh"
      },
      "outputs": [],
      "source": [
        "network.mlp.compile(optimizer='rmsprop',\n",
        "                loss='categorical_crossentropy',\n",
        "                metrics=['accuracy'])\n"
      ]
    },
    {
      "cell_type": "code",
      "execution_count": null,
      "metadata": {
        "colab": {
          "base_uri": "https://localhost:8080/"
        },
        "id": "TfuZCAk2qRRH",
        "outputId": "743dada6-e5a7-4a68-941a-7267a66f15cb"
      },
      "outputs": [
        {
          "output_type": "stream",
          "name": "stdout",
          "text": [
            "Epoch 1/10\n",
            "469/469 [==============================] - 34s 71ms/step - loss: 0.5131 - accuracy: 0.8806\n",
            "Epoch 2/10\n",
            "469/469 [==============================] - 32s 69ms/step - loss: 0.2581 - accuracy: 0.9532\n",
            "Epoch 3/10\n",
            "469/469 [==============================] - 35s 75ms/step - loss: 0.2164 - accuracy: 0.9611\n",
            "Epoch 4/10\n",
            "469/469 [==============================] - 33s 71ms/step - loss: 0.1872 - accuracy: 0.9672\n",
            "Epoch 5/10\n",
            "469/469 [==============================] - 33s 71ms/step - loss: 0.1724 - accuracy: 0.9696\n",
            "Epoch 6/10\n",
            "469/469 [==============================] - 35s 75ms/step - loss: 0.1658 - accuracy: 0.9709\n",
            "Epoch 7/10\n",
            "469/469 [==============================] - 32s 69ms/step - loss: 0.1537 - accuracy: 0.9726\n",
            "Epoch 8/10\n",
            "469/469 [==============================] - 34s 72ms/step - loss: 0.1462 - accuracy: 0.9740\n",
            "Epoch 9/10\n",
            "469/469 [==============================] - 33s 70ms/step - loss: 0.1392 - accuracy: 0.9763\n",
            "Epoch 10/10\n",
            "469/469 [==============================] - 33s 70ms/step - loss: 0.1333 - accuracy: 0.9767\n"
          ]
        },
        {
          "output_type": "execute_result",
          "data": {
            "text/plain": [
              "<keras.callbacks.History at 0x7f88d2591c10>"
            ]
          },
          "metadata": {},
          "execution_count": 55
        }
      ],
      "source": [
        "network.mlp.fit(train_images, train_labels, epochs=10, batch_size=128)"
      ]
    },
    {
      "cell_type": "code",
      "execution_count": null,
      "metadata": {
        "colab": {
          "base_uri": "https://localhost:8080/"
        },
        "id": "bG6FchaKqUTx",
        "outputId": "dd7b3eab-b208-461a-d159-8d9f38d9eb6f"
      },
      "outputs": [
        {
          "output_type": "stream",
          "name": "stdout",
          "text": [
            "313/313 [==============================] - 3s 10ms/step - loss: 0.1237 - accuracy: 0.9792\n",
            "test_acc: 0.979200005531311\n"
          ]
        }
      ],
      "source": [
        "test_loss, test_acc = network.mlp.evaluate(test_images, test_labels)\n",
        "print('test_acc:', test_acc)"
      ]
    },
    {
      "cell_type": "code",
      "execution_count": null,
      "metadata": {
        "id": "8bGScTRy9CEJ",
        "colab": {
          "base_uri": "https://localhost:8080/"
        },
        "outputId": "b073f2d6-17f1-4f7b-ddab-1174e43d3f5c"
      },
      "outputs": [
        {
          "output_type": "stream",
          "name": "stdout",
          "text": [
            "Downloading data from https://storage.googleapis.com/tensorflow/tf-keras-datasets/boston_housing.npz\n",
            "57344/57026 [==============================] - 0s 0us/step\n",
            "65536/57026 [==================================] - 0s 0us/step\n"
          ]
        }
      ],
      "source": [
        "## Conduct cross validation\n",
        "## Use Boston Housing data as an example\n",
        "## Load the data\n",
        "from keras.datasets import boston_housing\n",
        "(train_data, train_targets), (test_data, test_targets) =  boston_housing.load_data()"
      ]
    },
    {
      "cell_type": "code",
      "execution_count": null,
      "metadata": {
        "id": "FdVzayZpsRsZ",
        "colab": {
          "base_uri": "https://localhost:8080/"
        },
        "outputId": "03d105f0-debc-403c-8cf5-4edb064cc91a"
      },
      "outputs": [
        {
          "output_type": "execute_result",
          "data": {
            "text/plain": [
              "(404, 13)"
            ]
          },
          "metadata": {},
          "execution_count": 59
        }
      ],
      "source": [
        "train_data.shape"
      ]
    },
    {
      "cell_type": "code",
      "execution_count": null,
      "metadata": {
        "id": "F3aaVZJzs6_u"
      },
      "outputs": [],
      "source": [
        "test_data.shape"
      ]
    },
    {
      "cell_type": "code",
      "execution_count": null,
      "metadata": {
        "id": "3W8tMR7gtLtx",
        "colab": {
          "base_uri": "https://localhost:8080/"
        },
        "outputId": "fb3f4f1f-3175-41a5-c6ee-83687f8c499d"
      },
      "outputs": [
        {
          "output_type": "execute_result",
          "data": {
            "text/plain": [
              "array([15.2, 42.3, 50. , 21.1, 17.7, 18.5, 11.3, 15.6, 15.6, 14.4, 12.1,\n",
              "       17.9, 23.1, 19.9, 15.7,  8.8, 50. , 22.5, 24.1, 27.5, 10.9, 30.8,\n",
              "       32.9, 24. , 18.5, 13.3, 22.9, 34.7, 16.6, 17.5, 22.3, 16.1, 14.9,\n",
              "       23.1, 34.9, 25. , 13.9, 13.1, 20.4, 20. , 15.2, 24.7, 22.2, 16.7,\n",
              "       12.7, 15.6, 18.4, 21. , 30.1, 15.1, 18.7,  9.6, 31.5, 24.8, 19.1,\n",
              "       22. , 14.5, 11. , 32. , 29.4, 20.3, 24.4, 14.6, 19.5, 14.1, 14.3,\n",
              "       15.6, 10.5,  6.3, 19.3, 19.3, 13.4, 36.4, 17.8, 13.5, 16.5,  8.3,\n",
              "       14.3, 16. , 13.4, 28.6, 43.5, 20.2, 22. , 23. , 20.7, 12.5, 48.5,\n",
              "       14.6, 13.4, 23.7, 50. , 21.7, 39.8, 38.7, 22.2, 34.9, 22.5, 31.1,\n",
              "       28.7, 46. , 41.7, 21. , 26.6, 15. , 24.4, 13.3, 21.2, 11.7, 21.7,\n",
              "       19.4, 50. , 22.8, 19.7, 24.7, 36.2, 14.2, 18.9, 18.3, 20.6, 24.6,\n",
              "       18.2,  8.7, 44. , 10.4, 13.2, 21.2, 37. , 30.7, 22.9, 20. , 19.3,\n",
              "       31.7, 32. , 23.1, 18.8, 10.9, 50. , 19.6,  5. , 14.4, 19.8, 13.8,\n",
              "       19.6, 23.9, 24.5, 25. , 19.9, 17.2, 24.6, 13.5, 26.6, 21.4, 11.9,\n",
              "       22.6, 19.6,  8.5, 23.7, 23.1, 22.4, 20.5, 23.6, 18.4, 35.2, 23.1,\n",
              "       27.9, 20.6, 23.7, 28. , 13.6, 27.1, 23.6, 20.6, 18.2, 21.7, 17.1,\n",
              "        8.4, 25.3, 13.8, 22.2, 18.4, 20.7, 31.6, 30.5, 20.3,  8.8, 19.2,\n",
              "       19.4, 23.1, 23. , 14.8, 48.8, 22.6, 33.4, 21.1, 13.6, 32.2, 13.1,\n",
              "       23.4, 18.9, 23.9, 11.8, 23.3, 22.8, 19.6, 16.7, 13.4, 22.2, 20.4,\n",
              "       21.8, 26.4, 14.9, 24.1, 23.8, 12.3, 29.1, 21. , 19.5, 23.3, 23.8,\n",
              "       17.8, 11.5, 21.7, 19.9, 25. , 33.4, 28.5, 21.4, 24.3, 27.5, 33.1,\n",
              "       16.2, 23.3, 48.3, 22.9, 22.8, 13.1, 12.7, 22.6, 15. , 15.3, 10.5,\n",
              "       24. , 18.5, 21.7, 19.5, 33.2, 23.2,  5. , 19.1, 12.7, 22.3, 10.2,\n",
              "       13.9, 16.3, 17. , 20.1, 29.9, 17.2, 37.3, 45.4, 17.8, 23.2, 29. ,\n",
              "       22. , 18. , 17.4, 34.6, 20.1, 25. , 15.6, 24.8, 28.2, 21.2, 21.4,\n",
              "       23.8, 31. , 26.2, 17.4, 37.9, 17.5, 20. ,  8.3, 23.9,  8.4, 13.8,\n",
              "        7.2, 11.7, 17.1, 21.6, 50. , 16.1, 20.4, 20.6, 21.4, 20.6, 36.5,\n",
              "        8.5, 24.8, 10.8, 21.9, 17.3, 18.9, 36.2, 14.9, 18.2, 33.3, 21.8,\n",
              "       19.7, 31.6, 24.8, 19.4, 22.8,  7.5, 44.8, 16.8, 18.7, 50. , 50. ,\n",
              "       19.5, 20.1, 50. , 17.2, 20.8, 19.3, 41.3, 20.4, 20.5, 13.8, 16.5,\n",
              "       23.9, 20.6, 31.5, 23.3, 16.8, 14. , 33.8, 36.1, 12.8, 18.3, 18.7,\n",
              "       19.1, 29. , 30.1, 50. , 50. , 22. , 11.9, 37.6, 50. , 22.7, 20.8,\n",
              "       23.5, 27.9, 50. , 19.3, 23.9, 22.6, 15.2, 21.7, 19.2, 43.8, 20.3,\n",
              "       33.2, 19.9, 22.5, 32.7, 22. , 17.1, 19. , 15. , 16.1, 25.1, 23.7,\n",
              "       28.7, 37.2, 22.6, 16.4, 25. , 29.8, 22.1, 17.4, 18.1, 30.3, 17.5,\n",
              "       24.7, 12.6, 26.5, 28.7, 13.3, 10.4, 24.4, 23. , 20. , 17.8,  7. ,\n",
              "       11.8, 24.4, 13.8, 19.4, 25.2, 19.4, 19.4, 29.1])"
            ]
          },
          "metadata": {},
          "execution_count": 61
        }
      ],
      "source": [
        "train_targets"
      ]
    },
    {
      "cell_type": "code",
      "execution_count": null,
      "metadata": {
        "id": "es2mvcbBtRg7",
        "colab": {
          "base_uri": "https://localhost:8080/"
        },
        "outputId": "f61fedea-62d4-4ff3-edff-b33bd6e64a54"
      },
      "outputs": [
        {
          "output_type": "execute_result",
          "data": {
            "text/plain": [
              "array([3.74511057e+00, 1.14801980e+01, 1.11044307e+01, 6.18811881e-02,\n",
              "       5.57355941e-01, 6.26708168e+00, 6.90106436e+01, 3.74027079e+00,\n",
              "       9.44059406e+00, 4.05898515e+02, 1.84759901e+01, 3.54783168e+02,\n",
              "       1.27408168e+01])"
            ]
          },
          "metadata": {},
          "execution_count": 62
        }
      ],
      "source": [
        "## Data standardization: put on variables on the same scale\n",
        "## Especially important when regularization is used\n",
        "mean = train_data.mean(axis=0) ## 'axis=0' means calcuate the mean across first dimension, which is rows in this example.\n",
        "mean ## vector of sample averages on training data for each variable"
      ]
    },
    {
      "cell_type": "code",
      "execution_count": null,
      "metadata": {
        "id": "dt8LyauGtnMs",
        "colab": {
          "base_uri": "https://localhost:8080/"
        },
        "outputId": "cd6df4e1-7bd6-4d94-b281-6752fde73c63"
      },
      "outputs": [
        {
          "output_type": "execute_result",
          "data": {
            "text/plain": [
              "array([-1.13000918e-15,  2.25122451e-15,  1.20695533e-14,  9.82437454e-17,\n",
              "       -6.12683721e-16,  4.53982286e-15,  7.52753195e-15,  1.04207072e-15,\n",
              "        1.27071071e-15, -5.06525515e-14,  5.21167268e-14,  5.59429291e-13,\n",
              "        4.71350132e-15])"
            ]
          },
          "metadata": {},
          "execution_count": 63
        }
      ],
      "source": [
        "train_data -= mean ## For each variable, minus the original value by the sample average of this varaible.\n",
        "train_data.mean(axis=0) ## All elements are zeros."
      ]
    },
    {
      "cell_type": "code",
      "execution_count": null,
      "metadata": {
        "id": "UeflbrPFt3Mx",
        "colab": {
          "base_uri": "https://localhost:8080/"
        },
        "outputId": "c2be0115-bdb2-4b44-a34a-9e0be181054b"
      },
      "outputs": [
        {
          "output_type": "execute_result",
          "data": {
            "text/plain": [
              "array([9.22929073e+00, 2.37382770e+01, 6.80287253e+00, 2.40939633e-01,\n",
              "       1.17147847e-01, 7.08908627e-01, 2.79060634e+01, 2.02770050e+00,\n",
              "       8.68758849e+00, 1.66168506e+02, 2.19765689e+00, 9.39946015e+01,\n",
              "       7.24556085e+00])"
            ]
          },
          "metadata": {},
          "execution_count": 64
        }
      ],
      "source": [
        "std = train_data.std(axis=0) ## vector of sample averages on training data for each variable\n",
        "std"
      ]
    },
    {
      "cell_type": "code",
      "execution_count": null,
      "metadata": {
        "id": "rIwW7YVbuAcA",
        "colab": {
          "base_uri": "https://localhost:8080/"
        },
        "outputId": "77e1791f-626f-40d3-e94d-1ddb6535cfc3"
      },
      "outputs": [
        {
          "output_type": "execute_result",
          "data": {
            "text/plain": [
              "array([1., 1., 1., 1., 1., 1., 1., 1., 1., 1., 1., 1., 1.])"
            ]
          },
          "metadata": {},
          "execution_count": 65
        }
      ],
      "source": [
        "train_data /= std\n",
        "train_data.std(axis=0)"
      ]
    },
    {
      "cell_type": "code",
      "execution_count": null,
      "metadata": {
        "id": "EY-bjb7RuE0i"
      },
      "outputs": [],
      "source": [
        "## Standardize test data using mean/std values FROM TRAINING SET\n",
        "test_data -= mean\n",
        "test_data /= std"
      ]
    },
    {
      "cell_type": "code",
      "execution_count": null,
      "metadata": {
        "id": "qqJuXt7fuUXJ",
        "colab": {
          "base_uri": "https://localhost:8080/"
        },
        "outputId": "3dcef9ed-b970-4a6a-8872-52fa40ff208e"
      },
      "outputs": [
        {
          "output_type": "execute_result",
          "data": {
            "text/plain": [
              "array([-0.0707286 , -0.02435885,  0.02358875,  0.1500709 , -0.11267862,\n",
              "        0.12282991, -0.07746073,  0.13399985,  0.0621344 ,  0.06981759,\n",
              "       -0.04617659,  0.09979472, -0.06008184])"
            ]
          },
          "metadata": {},
          "execution_count": 67
        }
      ],
      "source": [
        "test_data.mean(axis=0) ## NOT ZEROS"
      ]
    },
    {
      "cell_type": "code",
      "execution_count": null,
      "metadata": {
        "id": "HZ-DApm1upRS",
        "colab": {
          "base_uri": "https://localhost:8080/"
        },
        "outputId": "dbb66846-9c42-4e2c-84c4-ac75b93fa86d"
      },
      "outputs": [
        {
          "output_type": "execute_result",
          "data": {
            "text/plain": [
              "array([0.57931694, 0.90431666, 1.03622933, 1.23419987, 0.93449418,\n",
              "       0.94374857, 1.03534182, 1.16796212, 1.00476841, 1.06228778,\n",
              "       0.91771633, 0.83780808, 0.91952837])"
            ]
          },
          "metadata": {},
          "execution_count": 68
        }
      ],
      "source": [
        "test_data.std(axis=0) ## NOT ONES"
      ]
    },
    {
      "cell_type": "code",
      "execution_count": null,
      "metadata": {
        "id": "zJN31UyZvBn-"
      },
      "outputs": [],
      "source": [
        "def build_model():\n",
        "    ## Because we will need to instantiate the same model multiple times (in cross-validation), \n",
        "    ## we use a function to construct it.\n",
        "    model = models.Sequential()\n",
        "    model.add(layers.Dense(64, activation='relu',\n",
        "                           input_shape=(train_data.shape[1],)))\n",
        "    model.add(layers.Dense(64, activation='relu'))\n",
        "    model.add(layers.Dense(1))\n",
        "    model.compile(optimizer='rmsprop', loss='mse', metrics=['mae'])\n",
        "    return model"
      ]
    },
    {
      "cell_type": "code",
      "execution_count": null,
      "metadata": {
        "id": "ARFoUblNvM88",
        "colab": {
          "base_uri": "https://localhost:8080/"
        },
        "outputId": "f4542c61-c3d4-4ad2-f788-ede2bd62df48"
      },
      "outputs": [
        {
          "output_type": "stream",
          "name": "stdout",
          "text": [
            "processing fold # 0\n",
            "processing fold # 1\n",
            "processing fold # 2\n",
            "processing fold # 3\n"
          ]
        }
      ],
      "source": [
        "import numpy as np\n",
        "\n",
        "k = 4\n",
        "num_val_samples = len(train_data) // k\n",
        "num_epochs = 100\n",
        "all_scores = [] ## Initiate an empty list\n",
        "for i in range(k):\n",
        "    print('processing fold #', i)\n",
        "    # Prepare the validation data: data from partition # k\n",
        "    val_data = train_data[i * num_val_samples: (i + 1) * num_val_samples]\n",
        "    val_targets = train_targets[i * num_val_samples: (i + 1) * num_val_samples]\n",
        "\n",
        "    # Prepare the training data: data from all other partitions\n",
        "    partial_train_data = np.concatenate(\n",
        "        [train_data[:i * num_val_samples],\n",
        "         train_data[(i + 1) * num_val_samples:]],\n",
        "        axis=0)\n",
        "    partial_train_targets = np.concatenate(\n",
        "        [train_targets[:i * num_val_samples],\n",
        "         train_targets[(i + 1) * num_val_samples:]],\n",
        "        axis=0)\n",
        "\n",
        "    # Build the Keras model (already compiled)\n",
        "    model = build_model()\n",
        "    # Train the model (in silent mode, verbose=0)\n",
        "    model.fit(partial_train_data, partial_train_targets,\n",
        "              epochs=num_epochs, batch_size=1, verbose=0)\n",
        "    # Evaluate the model on the validation data\n",
        "    val_mse, val_mae = model.evaluate(val_data, val_targets, verbose=0)\n",
        "    all_scores.append(val_mae)"
      ]
    },
    {
      "cell_type": "code",
      "execution_count": null,
      "metadata": {
        "id": "dtgxCvcbwUGH",
        "colab": {
          "base_uri": "https://localhost:8080/"
        },
        "outputId": "c7f2cf62-791d-4291-a89f-dfe86c7663e4"
      },
      "outputs": [
        {
          "output_type": "execute_result",
          "data": {
            "text/plain": [
              "[1.9413739442825317, 2.407116174697876, 2.8061394691467285, 2.4556186199188232]"
            ]
          },
          "metadata": {},
          "execution_count": 71
        }
      ],
      "source": [
        "all_scores"
      ]
    },
    {
      "cell_type": "code",
      "execution_count": null,
      "metadata": {
        "id": "Ve-FMfscwW8O",
        "colab": {
          "base_uri": "https://localhost:8080/"
        },
        "outputId": "45372ad5-bb85-49c4-a936-209de35f7af1"
      },
      "outputs": [
        {
          "output_type": "execute_result",
          "data": {
            "text/plain": [
              "2.40256205201149"
            ]
          },
          "metadata": {},
          "execution_count": 72
        }
      ],
      "source": [
        "np.mean(all_scores)"
      ]
    },
    {
      "cell_type": "markdown",
      "metadata": {
        "id": "WtkgXM9hxF4n"
      },
      "source": [
        "The above is to obtain CV_score for one set of tuning parameters.\n",
        "One can specify several sets of tuning parameters and calculate CV_score for each set.\n",
        "Finally, the set of tuning parameters yiedling the best CV_score is the final choice.\n",
        "Then use this set of tuning parameters to train the network using all data."
      ]
    },
    {
      "cell_type": "code",
      "execution_count": null,
      "metadata": {
        "id": "mxMEQrCDwXbq"
      },
      "outputs": [],
      "source": [
        "## Treat epoch as a tuning parameter and use CV to select the best epoch number to use.\n",
        "from keras import backend as K"
      ]
    },
    {
      "cell_type": "code",
      "execution_count": null,
      "metadata": {
        "id": "h5k5gGhfz8cf"
      },
      "outputs": [],
      "source": [
        "k=4"
      ]
    },
    {
      "cell_type": "code",
      "execution_count": null,
      "metadata": {
        "id": "XXvo2lk-xx2q",
        "colab": {
          "base_uri": "https://localhost:8080/"
        },
        "outputId": "67a4dcaa-d6a4-4a2c-ebef-a1aeafae621f"
      },
      "outputs": [
        {
          "output_type": "stream",
          "name": "stdout",
          "text": [
            "processing fold # 0\n",
            "processing fold # 1\n",
            "processing fold # 2\n",
            "processing fold # 3\n"
          ]
        }
      ],
      "source": [
        "num_epochs = 500\n",
        "all_mae_histories = []\n",
        "for i in range(k):\n",
        "    print('processing fold #', i)\n",
        "    # Prepare the validation data: data from partition # k\n",
        "    val_data = train_data[i * num_val_samples: (i + 1) * num_val_samples]\n",
        "    val_targets = train_targets[i * num_val_samples: (i + 1) * num_val_samples]\n",
        "\n",
        "    # Prepare the training data: data from all other partitions\n",
        "    partial_train_data = np.concatenate(\n",
        "        [train_data[:i * num_val_samples],\n",
        "         train_data[(i + 1) * num_val_samples:]],\n",
        "        axis=0)\n",
        "    partial_train_targets = np.concatenate(\n",
        "        [train_targets[:i * num_val_samples],\n",
        "         train_targets[(i + 1) * num_val_samples:]],\n",
        "        axis=0)\n",
        "\n",
        "    # Build the Keras model (already compiled)\n",
        "    model = build_model()\n",
        "    # Train the model (in silent mode, verbose=0)\n",
        "    history = model.fit(partial_train_data, partial_train_targets,\n",
        "                        validation_data=(val_data, val_targets),\n",
        "                        epochs=num_epochs, batch_size=1, verbose=0)\n",
        "    mae_history = history.history['val_mae'] ##history.history is a dict (dictionary)\n",
        "    all_mae_histories.append(mae_history)\n",
        "    "
      ]
    },
    {
      "cell_type": "code",
      "execution_count": null,
      "metadata": {
        "id": "yPmlLmf24XjS",
        "colab": {
          "base_uri": "https://localhost:8080/"
        },
        "outputId": "8073cab9-4ca5-4cd1-feea-4fb5de8af89b"
      },
      "outputs": [
        {
          "output_type": "execute_result",
          "data": {
            "text/plain": [
              "dict"
            ]
          },
          "metadata": {},
          "execution_count": 76
        }
      ],
      "source": [
        "## Its data type is dict, which has keys and values (matched pairs)\n",
        "type(history.history)"
      ]
    },
    {
      "cell_type": "code",
      "execution_count": null,
      "metadata": {
        "id": "tlBD5kUf2P8h",
        "colab": {
          "base_uri": "https://localhost:8080/"
        },
        "outputId": "aab1dc8b-0979-4e19-f317-345ff679f29c"
      },
      "outputs": [
        {
          "output_type": "execute_result",
          "data": {
            "text/plain": [
              "dict_keys(['loss', 'mae', 'val_loss', 'val_mae'])"
            ]
          },
          "metadata": {},
          "execution_count": 77
        }
      ],
      "source": [
        "history.history.keys()"
      ]
    },
    {
      "cell_type": "code",
      "execution_count": null,
      "metadata": {
        "id": "wtaeYJI15BR_",
        "colab": {
          "base_uri": "https://localhost:8080/"
        },
        "outputId": "dfd09707-0378-4c07-fd41-3088380dfa24"
      },
      "outputs": [
        {
          "output_type": "execute_result",
          "data": {
            "text/plain": [
              "list"
            ]
          },
          "metadata": {},
          "execution_count": 78
        }
      ],
      "source": [
        "## In this case, the value matched with the key 'val_mae' is a list\n",
        "type(history.history['val_mae'])"
      ]
    },
    {
      "cell_type": "code",
      "execution_count": null,
      "metadata": {
        "id": "Ra61Pta75QdG",
        "colab": {
          "base_uri": "https://localhost:8080/"
        },
        "outputId": "f4c2cb8b-4f2e-42e2-a350-503b52643770"
      },
      "outputs": [
        {
          "output_type": "execute_result",
          "data": {
            "text/plain": [
              "500"
            ]
          },
          "metadata": {},
          "execution_count": 79
        }
      ],
      "source": [
        "## The val_mae is a list of mae on validation set for each epoch (from 1 to 500)\n",
        "len(history.history['val_mae'])"
      ]
    },
    {
      "cell_type": "code",
      "execution_count": null,
      "metadata": {
        "id": "35niSl9z5oOV",
        "colab": {
          "base_uri": "https://localhost:8080/"
        },
        "outputId": "296310c9-3d1e-4c3d-b9e8-833e2a42b933"
      },
      "outputs": [
        {
          "output_type": "execute_result",
          "data": {
            "text/plain": [
              "[5.540804862976074,\n",
              " 4.061578273773193,\n",
              " 3.8314642906188965,\n",
              " 3.275705099105835,\n",
              " 3.3625729084014893,\n",
              " 3.7610719203948975,\n",
              " 3.1445529460906982,\n",
              " 3.012577772140503,\n",
              " 2.968008518218994,\n",
              " 2.995614528656006,\n",
              " 2.9570913314819336,\n",
              " 2.893524408340454,\n",
              " 2.831589698791504,\n",
              " 2.937113046646118,\n",
              " 3.147508382797241,\n",
              " 2.7304375171661377,\n",
              " 2.7059566974639893,\n",
              " 2.748821496963501,\n",
              " 2.8289248943328857,\n",
              " 2.766746997833252,\n",
              " 2.6795177459716797,\n",
              " 2.6257591247558594,\n",
              " 2.808309316635132,\n",
              " 2.585784912109375,\n",
              " 2.615861654281616,\n",
              " 2.593055248260498,\n",
              " 2.5504610538482666,\n",
              " 2.5299808979034424,\n",
              " 2.5885872840881348,\n",
              " 2.74084210395813,\n",
              " 2.553144931793213,\n",
              " 2.5057144165039062,\n",
              " 2.8632707595825195,\n",
              " 2.4138240814208984,\n",
              " 2.6808905601501465,\n",
              " 2.4837961196899414,\n",
              " 2.6107518672943115,\n",
              " 2.5321152210235596,\n",
              " 2.409550666809082,\n",
              " 2.8660378456115723,\n",
              " 2.4740936756134033,\n",
              " 2.4352073669433594,\n",
              " 2.5023443698883057,\n",
              " 2.366645097732544,\n",
              " 2.3965370655059814,\n",
              " 2.473933219909668,\n",
              " 2.5187318325042725,\n",
              " 2.6454854011535645,\n",
              " 2.455811023712158,\n",
              " 2.6316418647766113,\n",
              " 2.5732836723327637,\n",
              " 2.4337568283081055,\n",
              " 2.4422266483306885,\n",
              " 2.5862913131713867,\n",
              " 2.6298716068267822,\n",
              " 2.5847764015197754,\n",
              " 2.374438762664795,\n",
              " 2.441406488418579,\n",
              " 2.440538167953491,\n",
              " 2.458414316177368,\n",
              " 2.329033374786377,\n",
              " 2.3336589336395264,\n",
              " 2.462430477142334,\n",
              " 2.563148021697998,\n",
              " 2.6241238117218018,\n",
              " 2.3832948207855225,\n",
              " 2.226656675338745,\n",
              " 2.554185390472412,\n",
              " 2.4214470386505127,\n",
              " 2.426637649536133,\n",
              " 2.54412579536438,\n",
              " 2.5699589252471924,\n",
              " 2.3197975158691406,\n",
              " 2.4414422512054443,\n",
              " 2.474796772003174,\n",
              " 2.3970401287078857,\n",
              " 2.5667905807495117,\n",
              " 2.4018049240112305,\n",
              " 2.471179246902466,\n",
              " 2.325040817260742,\n",
              " 2.931105136871338,\n",
              " 2.3421666622161865,\n",
              " 2.2220160961151123,\n",
              " 2.593597173690796,\n",
              " 2.4461066722869873,\n",
              " 2.596909999847412,\n",
              " 2.351905345916748,\n",
              " 2.2499594688415527,\n",
              " 2.5703794956207275,\n",
              " 2.4333739280700684,\n",
              " 2.293287515640259,\n",
              " 2.5988106727600098,\n",
              " 2.422976016998291,\n",
              " 2.238281726837158,\n",
              " 2.232473134994507,\n",
              " 2.273716688156128,\n",
              " 2.6182117462158203,\n",
              " 2.5515642166137695,\n",
              " 2.3578262329101562,\n",
              " 2.6810691356658936,\n",
              " 2.365528106689453,\n",
              " 2.5034263134002686,\n",
              " 2.2653250694274902,\n",
              " 2.409762144088745,\n",
              " 2.2719955444335938,\n",
              " 2.6920242309570312,\n",
              " 2.4121665954589844,\n",
              " 2.6853764057159424,\n",
              " 2.494992733001709,\n",
              " 2.3949217796325684,\n",
              " 2.3830411434173584,\n",
              " 2.5208919048309326,\n",
              " 2.351881504058838,\n",
              " 2.7019200325012207,\n",
              " 2.2221484184265137,\n",
              " 2.2953760623931885,\n",
              " 2.23909068107605,\n",
              " 2.6148934364318848,\n",
              " 2.2701549530029297,\n",
              " 2.6490731239318848,\n",
              " 2.2571663856506348,\n",
              " 2.366722583770752,\n",
              " 2.428713798522949,\n",
              " 2.7155957221984863,\n",
              " 2.3816745281219482,\n",
              " 2.2746360301971436,\n",
              " 2.6215686798095703,\n",
              " 2.4426374435424805,\n",
              " 2.580840826034546,\n",
              " 2.3877038955688477,\n",
              " 2.3027095794677734,\n",
              " 2.327728509902954,\n",
              " 2.386334180831909,\n",
              " 2.5430784225463867,\n",
              " 2.5369274616241455,\n",
              " 2.3172481060028076,\n",
              " 2.3540029525756836,\n",
              " 2.5334794521331787,\n",
              " 2.3886492252349854,\n",
              " 2.328481912612915,\n",
              " 2.391631841659546,\n",
              " 2.663203716278076,\n",
              " 2.6709842681884766,\n",
              " 2.4890875816345215,\n",
              " 2.468513250350952,\n",
              " 2.3812577724456787,\n",
              " 2.386323928833008,\n",
              " 2.4229772090911865,\n",
              " 2.4170925617218018,\n",
              " 2.6093862056732178,\n",
              " 2.3540713787078857,\n",
              " 2.7499136924743652,\n",
              " 2.5423507690429688,\n",
              " 2.4641642570495605,\n",
              " 2.58056640625,\n",
              " 2.4250874519348145,\n",
              " 2.504542112350464,\n",
              " 2.4578170776367188,\n",
              " 2.552866220474243,\n",
              " 2.3954579830169678,\n",
              " 2.5827713012695312,\n",
              " 2.4458529949188232,\n",
              " 2.3788115978240967,\n",
              " 2.430380344390869,\n",
              " 2.2892143726348877,\n",
              " 2.455606460571289,\n",
              " 2.415987968444824,\n",
              " 2.6945958137512207,\n",
              " 2.642423391342163,\n",
              " 2.4107909202575684,\n",
              " 2.568617343902588,\n",
              " 2.580977439880371,\n",
              " 2.3447883129119873,\n",
              " 2.6220102310180664,\n",
              " 2.8636512756347656,\n",
              " 2.4940083026885986,\n",
              " 2.4409708976745605,\n",
              " 2.549880027770996,\n",
              " 2.3988635540008545,\n",
              " 2.479884386062622,\n",
              " 2.7382006645202637,\n",
              " 2.637632369995117,\n",
              " 2.382389545440674,\n",
              " 2.632734537124634,\n",
              " 2.5022077560424805,\n",
              " 2.618767738342285,\n",
              " 2.6072442531585693,\n",
              " 2.4553866386413574,\n",
              " 2.527834892272949,\n",
              " 2.419060230255127,\n",
              " 2.464083433151245,\n",
              " 2.3670248985290527,\n",
              " 2.453186511993408,\n",
              " 2.718707799911499,\n",
              " 2.552562952041626,\n",
              " 2.7512824535369873,\n",
              " 2.5461807250976562,\n",
              " 2.834857940673828,\n",
              " 2.811622142791748,\n",
              " 2.8884449005126953,\n",
              " 2.8700015544891357,\n",
              " 2.989731788635254,\n",
              " 2.6839869022369385,\n",
              " 2.5813469886779785,\n",
              " 2.611377477645874,\n",
              " 2.427596092224121,\n",
              " 2.5091090202331543,\n",
              " 2.540052890777588,\n",
              " 2.6845762729644775,\n",
              " 2.6342251300811768,\n",
              " 2.590944290161133,\n",
              " 2.5186827182769775,\n",
              " 2.355135440826416,\n",
              " 2.6219921112060547,\n",
              " 2.595045328140259,\n",
              " 2.5756430625915527,\n",
              " 2.6658530235290527,\n",
              " 2.597613573074341,\n",
              " 2.551287889480591,\n",
              " 2.4284112453460693,\n",
              " 2.521911382675171,\n",
              " 2.689239263534546,\n",
              " 2.3947043418884277,\n",
              " 2.4807052612304688,\n",
              " 2.3972551822662354,\n",
              " 2.525207996368408,\n",
              " 2.498544216156006,\n",
              " 2.5737595558166504,\n",
              " 2.501811981201172,\n",
              " 2.5299997329711914,\n",
              " 2.414592981338501,\n",
              " 2.8875415325164795,\n",
              " 2.504544496536255,\n",
              " 2.69565749168396,\n",
              " 2.630303144454956,\n",
              " 2.4863102436065674,\n",
              " 2.6547458171844482,\n",
              " 2.8447585105895996,\n",
              " 2.5005407333374023,\n",
              " 2.7846715450286865,\n",
              " 2.805668592453003,\n",
              " 2.6554489135742188,\n",
              " 2.609931468963623,\n",
              " 2.7049190998077393,\n",
              " 2.5612637996673584,\n",
              " 2.505967617034912,\n",
              " 2.602246046066284,\n",
              " 2.4964756965637207,\n",
              " 2.657197952270508,\n",
              " 2.5718703269958496,\n",
              " 2.5927462577819824,\n",
              " 2.6497082710266113,\n",
              " 2.733815908432007,\n",
              " 2.7588207721710205,\n",
              " 2.60064697265625,\n",
              " 2.6203298568725586,\n",
              " 2.555941104888916,\n",
              " 2.5771212577819824,\n",
              " 2.5796170234680176,\n",
              " 2.5016112327575684,\n",
              " 2.6314852237701416,\n",
              " 2.66890811920166,\n",
              " 2.6429646015167236,\n",
              " 2.7638957500457764,\n",
              " 2.7017993927001953,\n",
              " 2.586700677871704,\n",
              " 2.842487335205078,\n",
              " 2.620544672012329,\n",
              " 2.861402750015259,\n",
              " 2.665090799331665,\n",
              " 2.9738547801971436,\n",
              " 2.5467803478240967,\n",
              " 2.622678756713867,\n",
              " 2.4337687492370605,\n",
              " 2.6552653312683105,\n",
              " 2.7050411701202393,\n",
              " 2.8276636600494385,\n",
              " 2.701869249343872,\n",
              " 2.6826963424682617,\n",
              " 2.7383899688720703,\n",
              " 2.581968307495117,\n",
              " 2.688985586166382,\n",
              " 2.6724841594696045,\n",
              " 2.773418664932251,\n",
              " 2.709157705307007,\n",
              " 2.6308624744415283,\n",
              " 2.8426432609558105,\n",
              " 2.54911732673645,\n",
              " 2.617283344268799,\n",
              " 2.850863218307495,\n",
              " 2.8816757202148438,\n",
              " 2.5656635761260986,\n",
              " 2.6410796642303467,\n",
              " 2.6802003383636475,\n",
              " 2.8272693157196045,\n",
              " 2.7283108234405518,\n",
              " 2.7164418697357178,\n",
              " 2.5480270385742188,\n",
              " 2.6477572917938232,\n",
              " 2.539125919342041,\n",
              " 2.800466775894165,\n",
              " 2.595651388168335,\n",
              " 2.662703514099121,\n",
              " 2.601666212081909,\n",
              " 2.6362385749816895,\n",
              " 2.5680975914001465,\n",
              " 2.714444637298584,\n",
              " 2.477468490600586,\n",
              " 2.653630018234253,\n",
              " 2.78680157661438,\n",
              " 2.692176103591919,\n",
              " 2.780203104019165,\n",
              " 2.548874855041504,\n",
              " 2.636143684387207,\n",
              " 2.651381015777588,\n",
              " 2.549240827560425,\n",
              " 2.6251890659332275,\n",
              " 2.433533191680908,\n",
              " 2.691331386566162,\n",
              " 2.807544708251953,\n",
              " 2.7933549880981445,\n",
              " 2.7049736976623535,\n",
              " 2.6736350059509277,\n",
              " 2.6490414142608643,\n",
              " 2.553316831588745,\n",
              " 2.7022030353546143,\n",
              " 2.735816478729248,\n",
              " 2.717787027359009,\n",
              " 2.7143170833587646,\n",
              " 2.9730939865112305,\n",
              " 2.591601610183716,\n",
              " 2.54571270942688,\n",
              " 2.746767520904541,\n",
              " 2.629939556121826,\n",
              " 2.7131659984588623,\n",
              " 2.5680625438690186,\n",
              " 2.6136507987976074,\n",
              " 2.5375547409057617,\n",
              " 2.620194435119629,\n",
              " 2.7253971099853516,\n",
              " 2.6276304721832275,\n",
              " 2.634972333908081,\n",
              " 2.5863804817199707,\n",
              " 2.4963998794555664,\n",
              " 2.5926663875579834,\n",
              " 3.065150737762451,\n",
              " 2.697762966156006,\n",
              " 2.6872243881225586,\n",
              " 2.572507858276367,\n",
              " 2.671588897705078,\n",
              " 2.573439121246338,\n",
              " 2.6087872982025146,\n",
              " 2.7348201274871826,\n",
              " 2.7967734336853027,\n",
              " 2.663139820098877,\n",
              " 2.664729595184326,\n",
              " 2.5313286781311035,\n",
              " 2.5879628658294678,\n",
              " 2.541947364807129,\n",
              " 2.840421676635742,\n",
              " 2.6290125846862793,\n",
              " 2.7514655590057373,\n",
              " 2.5922751426696777,\n",
              " 2.768995523452759,\n",
              " 2.7296290397644043,\n",
              " 2.6112117767333984,\n",
              " 2.5508627891540527,\n",
              " 2.5871663093566895,\n",
              " 2.6103081703186035,\n",
              " 2.594780445098877,\n",
              " 2.7117068767547607,\n",
              " 2.7221858501434326,\n",
              " 2.7120985984802246,\n",
              " 2.7238998413085938,\n",
              " 2.7190847396850586,\n",
              " 2.6056010723114014,\n",
              " 2.558051586151123,\n",
              " 2.5536680221557617,\n",
              " 2.8176968097686768,\n",
              " 2.6024463176727295,\n",
              " 2.567213296890259,\n",
              " 2.582412004470825,\n",
              " 2.712388515472412,\n",
              " 2.72945499420166,\n",
              " 2.7362260818481445,\n",
              " 2.5349857807159424,\n",
              " 2.5512659549713135,\n",
              " 2.801185131072998,\n",
              " 2.8570070266723633,\n",
              " 2.563594341278076,\n",
              " 2.6421759128570557,\n",
              " 2.6092634201049805,\n",
              " 2.522284984588623,\n",
              " 2.769235372543335,\n",
              " 2.5798330307006836,\n",
              " 2.7450501918792725,\n",
              " 2.7446019649505615,\n",
              " 2.7582321166992188,\n",
              " 2.875166177749634,\n",
              " 2.6891849040985107,\n",
              " 2.518090009689331,\n",
              " 2.6297767162323,\n",
              " 2.733818769454956,\n",
              " 2.654064893722534,\n",
              " 2.7219066619873047,\n",
              " 2.6717445850372314,\n",
              " 2.786236524581909,\n",
              " 2.584881544113159,\n",
              " 2.6848838329315186,\n",
              " 2.5432162284851074,\n",
              " 2.581346273422241,\n",
              " 2.561147451400757,\n",
              " 2.5786309242248535,\n",
              " 2.6754355430603027,\n",
              " 2.5729446411132812,\n",
              " 2.749112606048584,\n",
              " 2.7012462615966797,\n",
              " 2.4731690883636475,\n",
              " 2.6633760929107666,\n",
              " 2.5375478267669678,\n",
              " 2.6009035110473633,\n",
              " 2.563321828842163,\n",
              " 2.5781540870666504,\n",
              " 2.5031039714813232,\n",
              " 2.5229668617248535,\n",
              " 2.583082675933838,\n",
              " 2.6755409240722656,\n",
              " 2.7760679721832275,\n",
              " 2.6237804889678955,\n",
              " 2.6909000873565674,\n",
              " 2.5648014545440674,\n",
              " 2.7330360412597656,\n",
              " 2.5540287494659424,\n",
              " 2.504584550857544,\n",
              " 2.5107951164245605,\n",
              " 2.646373748779297,\n",
              " 2.742586851119995,\n",
              " 2.5184011459350586,\n",
              " 2.486863613128662,\n",
              " 2.442194938659668,\n",
              " 2.540820360183716,\n",
              " 2.6424670219421387,\n",
              " 2.6374967098236084,\n",
              " 2.6095023155212402,\n",
              " 2.6070544719696045,\n",
              " 2.4719021320343018,\n",
              " 2.67594313621521,\n",
              " 2.6659557819366455,\n",
              " 2.7360355854034424,\n",
              " 2.6319801807403564,\n",
              " 2.7263424396514893,\n",
              " 2.6801795959472656,\n",
              " 2.622913122177124,\n",
              " 2.652658700942993,\n",
              " 2.796381950378418,\n",
              " 2.8329479694366455,\n",
              " 2.6132924556732178,\n",
              " 2.772803783416748,\n",
              " 2.599130392074585,\n",
              " 2.606107711791992,\n",
              " 2.748553991317749,\n",
              " 2.8155810832977295,\n",
              " 2.785249948501587,\n",
              " 2.6284618377685547,\n",
              " 2.8510191440582275,\n",
              " 2.626399278640747,\n",
              " 2.6338391304016113,\n",
              " 2.638606548309326,\n",
              " 2.7182393074035645,\n",
              " 2.667344093322754,\n",
              " 2.510749101638794,\n",
              " 2.5599799156188965,\n",
              " 2.623342275619507,\n",
              " 2.7287588119506836,\n",
              " 2.6598823070526123,\n",
              " 2.631800651550293,\n",
              " 2.5799999237060547,\n",
              " 2.6391406059265137,\n",
              " 2.8854682445526123,\n",
              " 2.7420921325683594,\n",
              " 2.6616878509521484,\n",
              " 2.7454710006713867,\n",
              " 2.652402877807617,\n",
              " 2.8172640800476074,\n",
              " 2.7769806385040283,\n",
              " 2.6717305183410645,\n",
              " 2.6552162170410156,\n",
              " 2.789287567138672,\n",
              " 2.7051875591278076,\n",
              " 2.732957363128662,\n",
              " 2.702704668045044,\n",
              " 2.723541259765625,\n",
              " 2.6994481086730957,\n",
              " 2.675938129425049,\n",
              " 2.653028726577759,\n",
              " 2.7336552143096924,\n",
              " 2.6198434829711914,\n",
              " 2.6588962078094482,\n",
              " 2.5936129093170166,\n",
              " 2.614373207092285]"
            ]
          },
          "metadata": {},
          "execution_count": 80
        }
      ],
      "source": [
        "history.history['val_mae']"
      ]
    },
    {
      "cell_type": "code",
      "execution_count": null,
      "metadata": {
        "id": "J4SXq6Le5WRy"
      },
      "outputs": [],
      "source": [
        "## Compute the average of the per-epoch MAE scores for all folds\n",
        "average_mae_history = [\n",
        "    np.mean([x[i] for x in all_mae_histories]) for i in range(num_epochs)]"
      ]
    },
    {
      "cell_type": "code",
      "execution_count": null,
      "metadata": {
        "id": "H7jWkquP51tb",
        "colab": {
          "base_uri": "https://localhost:8080/"
        },
        "outputId": "8cfc1b0a-caca-4e37-f2d7-e9d45be82b84"
      },
      "outputs": [
        {
          "output_type": "display_data",
          "data": {
            "image/png": "[encoded data removed]",
            "text/plain": [
              "<Figure size 432x288 with 1 Axes>"
            ]
          },
          "metadata": {
            "needs_background": "light"
          }
        }
      ],
      "source": [
        "## Make a plot\n",
        "plt.plot(range(1, len(average_mae_history) + 1), average_mae_history)\n",
        "plt.xlabel('Epochs')\n",
        "plt.ylabel('Validation MAE')\n",
        "plt.show()"
      ]
    },
    {
      "cell_type": "code",
      "execution_count": null,
      "metadata": {
        "id": "z9yL2c7B6C_U",
        "colab": {
          "base_uri": "https://localhost:8080/",
          "height": 279
        },
        "outputId": "46ffe786-55ea-49b4-c24c-295d8a8e2c71"
      },
      "outputs": [
        {
          "output_type": "display_data",
          "data": {
            "image/png": "[encoded data removed]",
            "text/plain": [
              "<Figure size 432x288 with 1 Axes>"
            ]
          },
          "metadata": {
            "needs_background": "light"
          }
        }
      ],
      "source": [
        "## Further refine the plot\n",
        "## Omit the first 10 data points, which are on a different scale from the rest of the curve.\n",
        "## Replace each point with an exponential moving average of the previous points, to obtain a smooth curve.\n",
        "def smooth_curve(points, factor=0.9):\n",
        "  smoothed_points = []\n",
        "  for point in points:\n",
        "    if smoothed_points:\n",
        "      previous = smoothed_points[-1]\n",
        "      smoothed_points.append(previous * factor + point * (1 - factor))\n",
        "    else:\n",
        "      smoothed_points.append(point)\n",
        "  return smoothed_points\n",
        "\n",
        "smooth_mae_history = smooth_curve(average_mae_history[10:])\n",
        "\n",
        "plt.plot(range(1, len(smooth_mae_history) + 1), smooth_mae_history)\n",
        "plt.xlabel('Epochs')\n",
        "plt.ylabel('Validation MAE')\n",
        "plt.show()"
      ]
    },
    {
      "cell_type": "code",
      "execution_count": null,
      "metadata": {
        "id": "UINKrgzA6P-3",
        "colab": {
          "base_uri": "https://localhost:8080/"
        },
        "outputId": "4476c24d-4036-4fec-9e5f-5987edcad24d"
      },
      "outputs": [
        {
          "output_type": "stream",
          "name": "stdout",
          "text": [
            "4/4 [==============================] - 0s 3ms/step - loss: 17.8725 - mae: 2.6021\n"
          ]
        },
        {
          "output_type": "execute_result",
          "data": {
            "text/plain": [
              "2.602057933807373"
            ]
          },
          "metadata": {},
          "execution_count": 84
        }
      ],
      "source": [
        "## According to this plot, it seems that validation MAE stops improving significantly after 80 epochs. \n",
        "## Past that point, we start overfitting.\n",
        "## So we can choose the optimal epoch number is 80.\n",
        "## Once we are done tuning other parameters of our model (besides the number of epochs, we could also adjust the size of the hidden layers)\n",
        "## we can train a final \"production\" model on all of the training data, with the best parameters, then look at its performance on the test data.\n",
        "# Get a fresh, compiled model.\n",
        "model = build_model()\n",
        "# Train it on the entirety of the data.\n",
        "model.fit(train_data, train_targets,\n",
        "          epochs=80, batch_size=16, verbose=0)\n",
        "test_mse_score, test_mae_score = model.evaluate(test_data, test_targets)\n",
        "test_mae_score"
      ]
    }
  ],
  "metadata": {
    "colab": {
      "collapsed_sections": [],
      "name": "Intro_to_deep_learning.ipynb",
      "provenance": []
    },
    "kernelspec": {
      "display_name": "Python 3",
      "language": "python",
      "name": "python3"
    },
    "language_info": {
      "codemirror_mode": {
        "name": "ipython",
        "version": 3
      },
      "file_extension": ".py",
      "mimetype": "text/x-python",
      "name": "python",
      "nbconvert_exporter": "python",
      "pygments_lexer": "ipython3",
      "version": "3.8.5"
    }
  },
  "nbformat": 4,
  "nbformat_minor": 0
}